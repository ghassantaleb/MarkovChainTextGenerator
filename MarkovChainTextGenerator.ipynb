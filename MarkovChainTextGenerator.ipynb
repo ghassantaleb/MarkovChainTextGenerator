{
  "nbformat": 4,
  "nbformat_minor": 0,
  "metadata": {
    "colab": {
      "provenance": [],
      "authorship_tag": "ABX9TyMcO/+cACb5pWm8wF1jw91g",
      "include_colab_link": true
    },
    "kernelspec": {
      "name": "python3",
      "display_name": "Python 3"
    },
    "language_info": {
      "name": "python"
    }
  },
  "cells": [
    {
      "cell_type": "markdown",
      "metadata": {
        "id": "view-in-github",
        "colab_type": "text"
      },
      "source": [
        "<a href=\"https://colab.research.google.com/github/ghassantaleb/MarkovChainTextGenerator/blob/main/MarkovChainTextGenerator.ipynb\" target=\"_parent\"><img src=\"https://colab.research.google.com/assets/colab-badge.svg\" alt=\"Open In Colab\"/></a>"
      ]
    },
    {
      "cell_type": "markdown",
      "source": [
        "## Markov Chain Text Generation Project\n",
        "\n",
        "### Project Description\n",
        "\n",
        "This project implements a simple text generation algorithm using Markov chains. Markov chains are a statistical model that predicts the next state in a sequence based on the current state. In the context of text generation, we use the model to predict the next word in a sequence based on the previous words.\n",
        "\n",
        "The Markov chain algorithm works by analyzing an input text corpus, learning patterns of word transitions, and then generating new sequences of text by sampling from these learned patterns. The model can be adjusted by changing the size of the word sequence (referred to as `n`) used to make predictions, which can influence how coherent or random the generated text appears.\n",
        "\n",
        "This basic implementation uses word pairs (bigram) to predict the next word. You can modify the input text, change the size of the word sequence (`n`), and adjust the length of the generated text to experiment with different outcomes.\n"
      ],
      "metadata": {
        "id": "7mjHOxVWAJ0S"
      }
    },
    {
      "cell_type": "markdown",
      "source": [
        "# Code Implementation"
      ],
      "metadata": {
        "id": "ATIbwMnbANqm"
      }
    },
    {
      "cell_type": "code",
      "source": [
        "import random\n",
        "\n",
        "class MarkovChain:\n",
        "    def __init__(self):\n",
        "        self.chain = {}\n",
        "\n",
        "    def train(self, text, n=1):\n",
        "        words = text.split()\n",
        "        index = 0\n",
        "        for i in range(len(words) - n):\n",
        "            key = tuple(words[i:i+n])\n",
        "            next_word = words[i + n]\n",
        "            if key not in self.chain:\n",
        "                self.chain[key] = []\n",
        "            self.chain[key].append(next_word)\n",
        "\n",
        "    def generate(self, size=20, seed=None):\n",
        "        if seed is None:\n",
        "            seed = random.choice(list(self.chain.keys()))\n",
        "        output = list(seed)\n",
        "        for _ in range(size - len(seed)):\n",
        "            seed = tuple(output[-len(seed):])\n",
        "            if seed in self.chain:\n",
        "                next_word = random.choice(self.chain[seed])\n",
        "                output.append(next_word)\n",
        "            else:\n",
        "                break\n",
        "        return ' '.join(output)\n",
        "\n",
        "# Example usage\n",
        "text = \"This is an example text. This text is for training a simple Markov chain text generator.\"\n",
        "mc = MarkovChain()\n",
        "mc.train(text, n=2)  # Train with word pairs\n",
        "generated_text = mc.generate(size=15)\n",
        "print(generated_text)\n"
      ],
      "metadata": {
        "colab": {
          "base_uri": "https://localhost:8080/"
        },
        "id": "77z90HvAARi4",
        "outputId": "d9e69d26-7184-4829-a7b6-23e56e2996d7"
      },
      "execution_count": 9,
      "outputs": [
        {
          "output_type": "stream",
          "name": "stdout",
          "text": [
            "a simple Markov chain text generator.\n"
          ]
        }
      ]
    }
  ]
}